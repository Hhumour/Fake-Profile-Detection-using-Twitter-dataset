{
 "cells": [
  {
   "cell_type": "code",
   "execution_count": 99,
   "metadata": {},
   "outputs": [],
   "source": [
    "import numpy as np\n",
    "import matplotlib.pyplot as plt\n",
    "import gender_guesser.detector as gender\n",
    "import pandas as pd\n",
    "import math\n",
    "from sklearn.preprocessing import OneHotEncoder,LabelEncoder\n",
    "import matplotlib.pyplot as plt\n",
    "from sklearn.preprocessing import MinMaxScaler\n",
    "from sklearn.model_selection import train_test_split\n",
    "from sklearn.ensemble import RandomForestClassifier"
   ]
  },
  {
   "cell_type": "code",
   "execution_count": 100,
   "metadata": {},
   "outputs": [
    {
     "data": {
      "text/html": [
       "<div>\n",
       "<style scoped>\n",
       "    .dataframe tbody tr th:only-of-type {\n",
       "        vertical-align: middle;\n",
       "    }\n",
       "\n",
       "    .dataframe tbody tr th {\n",
       "        vertical-align: top;\n",
       "    }\n",
       "\n",
       "    .dataframe thead th {\n",
       "        text-align: right;\n",
       "    }\n",
       "</style>\n",
       "<table border=\"1\" class=\"dataframe\">\n",
       "  <thead>\n",
       "    <tr style=\"text-align: right;\">\n",
       "      <th></th>\n",
       "      <th>id</th>\n",
       "      <th>name</th>\n",
       "      <th>screen_name</th>\n",
       "      <th>statuses_count</th>\n",
       "      <th>followers_count</th>\n",
       "      <th>friends_count</th>\n",
       "      <th>favourites_count</th>\n",
       "      <th>listed_count</th>\n",
       "      <th>created_at</th>\n",
       "      <th>url</th>\n",
       "      <th>...</th>\n",
       "      <th>profile_sidebar_fill_color</th>\n",
       "      <th>profile_background_image_url</th>\n",
       "      <th>profile_background_color</th>\n",
       "      <th>profile_link_color</th>\n",
       "      <th>utc_offset</th>\n",
       "      <th>protected</th>\n",
       "      <th>verified</th>\n",
       "      <th>description</th>\n",
       "      <th>updated</th>\n",
       "      <th>dataset</th>\n",
       "    </tr>\n",
       "  </thead>\n",
       "  <tbody>\n",
       "    <tr>\n",
       "      <th>0</th>\n",
       "      <td>3610511</td>\n",
       "      <td>Davide Dellacasa</td>\n",
       "      <td>braddd</td>\n",
       "      <td>20370</td>\n",
       "      <td>5470</td>\n",
       "      <td>2385</td>\n",
       "      <td>145</td>\n",
       "      <td>52</td>\n",
       "      <td>Fri Apr 06 10:58:22 +0000 2007</td>\n",
       "      <td>http://braddd.tumblr.com</td>\n",
       "      <td>...</td>\n",
       "      <td>FFF7CC</td>\n",
       "      <td>http://a0.twimg.com/profile_background_images/...</td>\n",
       "      <td>BADFCD</td>\n",
       "      <td>FF0000</td>\n",
       "      <td>3600.0</td>\n",
       "      <td>NaN</td>\n",
       "      <td>NaN</td>\n",
       "      <td>Founder of http://www.screenweek.it &amp; http://w...</td>\n",
       "      <td>2015-02-14 10:54:49</td>\n",
       "      <td>E13</td>\n",
       "    </tr>\n",
       "    <tr>\n",
       "      <th>1</th>\n",
       "      <td>5656162</td>\n",
       "      <td>Simone Economo</td>\n",
       "      <td>eKoeS</td>\n",
       "      <td>3131</td>\n",
       "      <td>506</td>\n",
       "      <td>381</td>\n",
       "      <td>9</td>\n",
       "      <td>40</td>\n",
       "      <td>Mon Apr 30 15:08:42 +0000 2007</td>\n",
       "      <td>http://www.lineheight.net/</td>\n",
       "      <td>...</td>\n",
       "      <td>DDEEF6</td>\n",
       "      <td>http://a0.twimg.com/images/themes/theme1/bg.png</td>\n",
       "      <td>C0DEED</td>\n",
       "      <td>0084B4</td>\n",
       "      <td>3600.0</td>\n",
       "      <td>NaN</td>\n",
       "      <td>NaN</td>\n",
       "      <td>BSc degree (cum laude) in Computer Engineering...</td>\n",
       "      <td>2015-02-14 10:54:49</td>\n",
       "      <td>E13</td>\n",
       "    </tr>\n",
       "    <tr>\n",
       "      <th>2</th>\n",
       "      <td>5682702</td>\n",
       "      <td>tacone</td>\n",
       "      <td>tacone_</td>\n",
       "      <td>4024</td>\n",
       "      <td>264</td>\n",
       "      <td>87</td>\n",
       "      <td>323</td>\n",
       "      <td>16</td>\n",
       "      <td>Tue May 01 11:53:40 +0000 2007</td>\n",
       "      <td>http://t.co/LKrl1dZE</td>\n",
       "      <td>...</td>\n",
       "      <td>000000</td>\n",
       "      <td>http://a0.twimg.com/profile_background_images/...</td>\n",
       "      <td>1A1B1F</td>\n",
       "      <td>2FC2EF</td>\n",
       "      <td>3600.0</td>\n",
       "      <td>NaN</td>\n",
       "      <td>NaN</td>\n",
       "      <td>Cogito ergo bestemmio.</td>\n",
       "      <td>2015-02-14 10:54:49</td>\n",
       "      <td>E13</td>\n",
       "    </tr>\n",
       "    <tr>\n",
       "      <th>3</th>\n",
       "      <td>6067292</td>\n",
       "      <td>alesaura</td>\n",
       "      <td>alesstar</td>\n",
       "      <td>40586</td>\n",
       "      <td>640</td>\n",
       "      <td>622</td>\n",
       "      <td>1118</td>\n",
       "      <td>32</td>\n",
       "      <td>Tue May 15 16:55:16 +0000 2007</td>\n",
       "      <td>http://alesstar.wordpress.com/</td>\n",
       "      <td>...</td>\n",
       "      <td>95E8EC</td>\n",
       "      <td>http://a0.twimg.com/images/themes/theme4/bg.gif</td>\n",
       "      <td>0099B9</td>\n",
       "      <td>0099B9</td>\n",
       "      <td>3600.0</td>\n",
       "      <td>NaN</td>\n",
       "      <td>NaN</td>\n",
       "      <td>Se la vita ti dà sarde, scapocciale!</td>\n",
       "      <td>2015-02-14 10:54:49</td>\n",
       "      <td>E13</td>\n",
       "    </tr>\n",
       "    <tr>\n",
       "      <th>4</th>\n",
       "      <td>6015122</td>\n",
       "      <td>Angelo</td>\n",
       "      <td>PerDiletto</td>\n",
       "      <td>2016</td>\n",
       "      <td>62</td>\n",
       "      <td>64</td>\n",
       "      <td>13</td>\n",
       "      <td>0</td>\n",
       "      <td>Sun May 13 19:52:00 +0000 2007</td>\n",
       "      <td>http://www.flickr.com/per_diletto</td>\n",
       "      <td>...</td>\n",
       "      <td>F6F6F6</td>\n",
       "      <td>http://a0.twimg.com/images/themes/theme18/bg.gif</td>\n",
       "      <td>ACDED6</td>\n",
       "      <td>038543</td>\n",
       "      <td>3600.0</td>\n",
       "      <td>NaN</td>\n",
       "      <td>NaN</td>\n",
       "      <td>Je me souviens</td>\n",
       "      <td>2015-02-14 10:54:49</td>\n",
       "      <td>E13</td>\n",
       "    </tr>\n",
       "  </tbody>\n",
       "</table>\n",
       "<p>5 rows × 34 columns</p>\n",
       "</div>"
      ],
      "text/plain": [
       "        id              name screen_name  statuses_count  followers_count  \\\n",
       "0  3610511  Davide Dellacasa      braddd           20370             5470   \n",
       "1  5656162    Simone Economo       eKoeS            3131              506   \n",
       "2  5682702            tacone     tacone_            4024              264   \n",
       "3  6067292          alesaura    alesstar           40586              640   \n",
       "4  6015122            Angelo  PerDiletto            2016               62   \n",
       "\n",
       "   friends_count  favourites_count  listed_count  \\\n",
       "0           2385               145            52   \n",
       "1            381                 9            40   \n",
       "2             87               323            16   \n",
       "3            622              1118            32   \n",
       "4             64                13             0   \n",
       "\n",
       "                       created_at                                url  ...  \\\n",
       "0  Fri Apr 06 10:58:22 +0000 2007           http://braddd.tumblr.com  ...   \n",
       "1  Mon Apr 30 15:08:42 +0000 2007         http://www.lineheight.net/  ...   \n",
       "2  Tue May 01 11:53:40 +0000 2007               http://t.co/LKrl1dZE  ...   \n",
       "3  Tue May 15 16:55:16 +0000 2007     http://alesstar.wordpress.com/  ...   \n",
       "4  Sun May 13 19:52:00 +0000 2007  http://www.flickr.com/per_diletto  ...   \n",
       "\n",
       "  profile_sidebar_fill_color  \\\n",
       "0                     FFF7CC   \n",
       "1                     DDEEF6   \n",
       "2                     000000   \n",
       "3                     95E8EC   \n",
       "4                     F6F6F6   \n",
       "\n",
       "                        profile_background_image_url profile_background_color  \\\n",
       "0  http://a0.twimg.com/profile_background_images/...                   BADFCD   \n",
       "1    http://a0.twimg.com/images/themes/theme1/bg.png                   C0DEED   \n",
       "2  http://a0.twimg.com/profile_background_images/...                   1A1B1F   \n",
       "3    http://a0.twimg.com/images/themes/theme4/bg.gif                   0099B9   \n",
       "4   http://a0.twimg.com/images/themes/theme18/bg.gif                   ACDED6   \n",
       "\n",
       "   profile_link_color  utc_offset  protected verified  \\\n",
       "0              FF0000      3600.0        NaN      NaN   \n",
       "1              0084B4      3600.0        NaN      NaN   \n",
       "2              2FC2EF      3600.0        NaN      NaN   \n",
       "3              0099B9      3600.0        NaN      NaN   \n",
       "4              038543      3600.0        NaN      NaN   \n",
       "\n",
       "                                         description              updated  \\\n",
       "0  Founder of http://www.screenweek.it & http://w...  2015-02-14 10:54:49   \n",
       "1  BSc degree (cum laude) in Computer Engineering...  2015-02-14 10:54:49   \n",
       "2                             Cogito ergo bestemmio.  2015-02-14 10:54:49   \n",
       "3               Se la vita ti dà sarde, scapocciale!  2015-02-14 10:54:49   \n",
       "4                                     Je me souviens  2015-02-14 10:54:49   \n",
       "\n",
       "  dataset  \n",
       "0     E13  \n",
       "1     E13  \n",
       "2     E13  \n",
       "3     E13  \n",
       "4     E13  \n",
       "\n",
       "[5 rows x 34 columns]"
      ]
     },
     "execution_count": 100,
     "metadata": {},
     "output_type": "execute_result"
    }
   ],
   "source": [
    "g_users = pd.read_csv(\"data/users.csv\")\n",
    "f_users = pd.read_csv(\"data/fusers.csv\")\n",
    "g_users.head()"
   ]
  },
  {
   "cell_type": "code",
   "execution_count": 101,
   "metadata": {},
   "outputs": [],
   "source": [
    "data=pd.concat([f_users,g_users],ignore_index=True)"
   ]
  },
  {
   "cell_type": "code",
   "execution_count": 102,
   "metadata": {},
   "outputs": [],
   "source": [
    "data_object=data.select_dtypes(include=['object'])\n",
    "data['dataset']=data.dataset.map({'INT':0,'E13':1})"
   ]
  },
  {
   "cell_type": "markdown",
   "metadata": {},
   "source": [
    "### Data Preprocessing"
   ]
  },
  {
   "cell_type": "code",
   "execution_count": 103,
   "metadata": {},
   "outputs": [
    {
     "data": {
      "text/html": [
       "<div>\n",
       "<style scoped>\n",
       "    .dataframe tbody tr th:only-of-type {\n",
       "        vertical-align: middle;\n",
       "    }\n",
       "\n",
       "    .dataframe tbody tr th {\n",
       "        vertical-align: top;\n",
       "    }\n",
       "\n",
       "    .dataframe thead th {\n",
       "        text-align: right;\n",
       "    }\n",
       "</style>\n",
       "<table border=\"1\" class=\"dataframe\">\n",
       "  <thead>\n",
       "    <tr style=\"text-align: right;\">\n",
       "      <th></th>\n",
       "      <th>id</th>\n",
       "      <th>name</th>\n",
       "      <th>screen_name</th>\n",
       "      <th>statuses_count</th>\n",
       "      <th>followers_count</th>\n",
       "      <th>friends_count</th>\n",
       "      <th>favourites_count</th>\n",
       "      <th>listed_count</th>\n",
       "      <th>created_at</th>\n",
       "      <th>url</th>\n",
       "      <th>...</th>\n",
       "      <th>profile_sidebar_fill_color</th>\n",
       "      <th>profile_background_image_url</th>\n",
       "      <th>profile_background_color</th>\n",
       "      <th>profile_link_color</th>\n",
       "      <th>utc_offset</th>\n",
       "      <th>protected</th>\n",
       "      <th>verified</th>\n",
       "      <th>description</th>\n",
       "      <th>updated</th>\n",
       "      <th>dataset</th>\n",
       "    </tr>\n",
       "  </thead>\n",
       "  <tbody>\n",
       "  </tbody>\n",
       "</table>\n",
       "<p>0 rows × 34 columns</p>\n",
       "</div>"
      ],
      "text/plain": [
       "Empty DataFrame\n",
       "Columns: [id, name, screen_name, statuses_count, followers_count, friends_count, favourites_count, listed_count, created_at, url, lang, time_zone, location, default_profile, default_profile_image, geo_enabled, profile_image_url, profile_banner_url, profile_use_background_image, profile_background_image_url_https, profile_text_color, profile_image_url_https, profile_sidebar_border_color, profile_background_tile, profile_sidebar_fill_color, profile_background_image_url, profile_background_color, profile_link_color, utc_offset, protected, verified, description, updated, dataset]\n",
       "Index: []\n",
       "\n",
       "[0 rows x 34 columns]"
      ]
     },
     "execution_count": 103,
     "metadata": {},
     "output_type": "execute_result"
    }
   ],
   "source": [
    "data[data.duplicated()]   #checking for duplicated values"
   ]
  },
  {
   "cell_type": "markdown",
   "metadata": {},
   "source": [
    "### forward fill-will fill with the current row values if the next row have null value\n",
    "### backward fill - will fill with the current row values if the previous row have null value"
   ]
  },
  {
   "cell_type": "code",
   "execution_count": 104,
   "metadata": {},
   "outputs": [],
   "source": [
    "data.time_zone=data.time_zone.fillna(method='ffill')\n",
    "data.time_zone=data.time_zone.fillna(method='bfill')\n",
    "data.utc_offset=data.utc_offset.fillna(method='ffill')\n",
    "data.utc_offset=data.utc_offset.fillna(method='bfill')\n",
    "data.description=data.description.fillna(method='ffill')\n",
    "data.description=data.description.fillna(method='bfill')\n",
    "data.location=data.location.fillna(method='ffill')\n",
    "data.location=data.location.fillna(method='bfill')"
   ]
  },
  {
   "cell_type": "code",
   "execution_count": 105,
   "metadata": {},
   "outputs": [],
   "source": [
    "data.profile_use_background_image=data.profile_use_background_image.fillna(0)\n",
    "data.profile_background_tile=data.profile_background_tile.fillna(0)\n",
    "data.geo_enabled=data.geo_enabled.fillna(0)\n",
    "data.default_profile_image=data.default_profile_image.fillna(0)\n",
    "data.default_profile=data.default_profile.fillna(0)"
   ]
  },
  {
   "cell_type": "markdown",
   "metadata": {},
   "source": [
    "### Function to convert color code into RGB format"
   ]
  },
  {
   "cell_type": "code",
   "execution_count": 106,
   "metadata": {},
   "outputs": [],
   "source": [
    "def hex_to_rgb(value):\n",
    "    lv = len(value)\n",
    "    return tuple(int(value[i:i+lv//3], 16) for i in range(0, lv, lv//3))"
   ]
  },
  {
   "cell_type": "code",
   "execution_count": 107,
   "metadata": {},
   "outputs": [],
   "source": [
    "color_columns=['profile_text_color','profile_sidebar_border_color','profile_sidebar_fill_color','profile_background_color',\n",
    "               'profile_link_color']\n",
    "for i in color_columns:\n",
    "    data[i]=data[i].apply(hex_to_rgb)"
   ]
  },
  {
   "cell_type": "markdown",
   "metadata": {},
   "source": [
    "## Forming new columns that contains the R,G,B value of each of the 5 columns in 'color_columns', Thus forming 15 new columns..."
   ]
  },
  {
   "cell_type": "code",
   "execution_count": 108,
   "metadata": {},
   "outputs": [],
   "source": [
    "abcde=pd.DataFrame()\n",
    "for i in color_columns:\n",
    "    abcdef=pd.DataFrame(data[i].tolist(), columns=[str(i)+'_red',str(i)+'_green',str(i)+'_blue'])\n",
    "    abcde=pd.concat([abcdef,abcde],axis=1)\n",
    "    "
   ]
  },
  {
   "cell_type": "markdown",
   "metadata": {},
   "source": [
    "### concating new columns with the original dataframe"
   ]
  },
  {
   "cell_type": "code",
   "execution_count": 109,
   "metadata": {},
   "outputs": [
    {
     "data": {
      "text/html": [
       "<div>\n",
       "<style scoped>\n",
       "    .dataframe tbody tr th:only-of-type {\n",
       "        vertical-align: middle;\n",
       "    }\n",
       "\n",
       "    .dataframe tbody tr th {\n",
       "        vertical-align: top;\n",
       "    }\n",
       "\n",
       "    .dataframe thead th {\n",
       "        text-align: right;\n",
       "    }\n",
       "</style>\n",
       "<table border=\"1\" class=\"dataframe\">\n",
       "  <thead>\n",
       "    <tr style=\"text-align: right;\">\n",
       "      <th></th>\n",
       "      <th>id</th>\n",
       "      <th>name</th>\n",
       "      <th>screen_name</th>\n",
       "      <th>statuses_count</th>\n",
       "      <th>followers_count</th>\n",
       "      <th>friends_count</th>\n",
       "      <th>favourites_count</th>\n",
       "      <th>listed_count</th>\n",
       "      <th>created_at</th>\n",
       "      <th>url</th>\n",
       "      <th>...</th>\n",
       "      <th>profile_background_color_blue</th>\n",
       "      <th>profile_sidebar_fill_color_red</th>\n",
       "      <th>profile_sidebar_fill_color_green</th>\n",
       "      <th>profile_sidebar_fill_color_blue</th>\n",
       "      <th>profile_sidebar_border_color_red</th>\n",
       "      <th>profile_sidebar_border_color_green</th>\n",
       "      <th>profile_sidebar_border_color_blue</th>\n",
       "      <th>profile_text_color_red</th>\n",
       "      <th>profile_text_color_green</th>\n",
       "      <th>profile_text_color_blue</th>\n",
       "    </tr>\n",
       "  </thead>\n",
       "  <tbody>\n",
       "    <tr>\n",
       "      <th>0</th>\n",
       "      <td>370098498</td>\n",
       "      <td>pirfectmoses</td>\n",
       "      <td>pirfectmoses</td>\n",
       "      <td>24</td>\n",
       "      <td>4</td>\n",
       "      <td>588</td>\n",
       "      <td>16</td>\n",
       "      <td>0</td>\n",
       "      <td>Thu Sep 08 13:20:35 +0000 2011</td>\n",
       "      <td>NaN</td>\n",
       "      <td>...</td>\n",
       "      <td>238</td>\n",
       "      <td>221</td>\n",
       "      <td>238</td>\n",
       "      <td>246</td>\n",
       "      <td>255</td>\n",
       "      <td>255</td>\n",
       "      <td>255</td>\n",
       "      <td>51</td>\n",
       "      <td>51</td>\n",
       "      <td>51</td>\n",
       "    </tr>\n",
       "    <tr>\n",
       "      <th>1</th>\n",
       "      <td>37384589</td>\n",
       "      <td>SAK Nair</td>\n",
       "      <td>bsknair1967</td>\n",
       "      <td>656</td>\n",
       "      <td>57</td>\n",
       "      <td>693</td>\n",
       "      <td>597</td>\n",
       "      <td>0</td>\n",
       "      <td>Sun May 03 07:35:13 +0000 2009</td>\n",
       "      <td>NaN</td>\n",
       "      <td>...</td>\n",
       "      <td>237</td>\n",
       "      <td>221</td>\n",
       "      <td>238</td>\n",
       "      <td>246</td>\n",
       "      <td>192</td>\n",
       "      <td>222</td>\n",
       "      <td>237</td>\n",
       "      <td>51</td>\n",
       "      <td>51</td>\n",
       "      <td>51</td>\n",
       "    </tr>\n",
       "    <tr>\n",
       "      <th>2</th>\n",
       "      <td>72110028</td>\n",
       "      <td>Deepak</td>\n",
       "      <td>dedjven</td>\n",
       "      <td>1234</td>\n",
       "      <td>15</td>\n",
       "      <td>104</td>\n",
       "      <td>1150</td>\n",
       "      <td>0</td>\n",
       "      <td>Sun Sep 06 19:50:08 +0000 2009</td>\n",
       "      <td>NaN</td>\n",
       "      <td>...</td>\n",
       "      <td>22</td>\n",
       "      <td>239</td>\n",
       "      <td>239</td>\n",
       "      <td>239</td>\n",
       "      <td>238</td>\n",
       "      <td>238</td>\n",
       "      <td>238</td>\n",
       "      <td>51</td>\n",
       "      <td>51</td>\n",
       "      <td>51</td>\n",
       "    </tr>\n",
       "    <tr>\n",
       "      <th>3</th>\n",
       "      <td>82885728</td>\n",
       "      <td>Marcos Vinicius</td>\n",
       "      <td>BrowAlves</td>\n",
       "      <td>573</td>\n",
       "      <td>14</td>\n",
       "      <td>227</td>\n",
       "      <td>530</td>\n",
       "      <td>0</td>\n",
       "      <td>Fri Oct 16 14:02:48 +0000 2009</td>\n",
       "      <td>NaN</td>\n",
       "      <td>...</td>\n",
       "      <td>237</td>\n",
       "      <td>221</td>\n",
       "      <td>238</td>\n",
       "      <td>246</td>\n",
       "      <td>192</td>\n",
       "      <td>222</td>\n",
       "      <td>237</td>\n",
       "      <td>31</td>\n",
       "      <td>29</td>\n",
       "      <td>31</td>\n",
       "    </tr>\n",
       "    <tr>\n",
       "      <th>4</th>\n",
       "      <td>110120789</td>\n",
       "      <td>Shri Kant Kanaujia</td>\n",
       "      <td>kanaujiask</td>\n",
       "      <td>675</td>\n",
       "      <td>18</td>\n",
       "      <td>519</td>\n",
       "      <td>653</td>\n",
       "      <td>0</td>\n",
       "      <td>Sun Jan 31 12:08:41 +0000 2010</td>\n",
       "      <td>NaN</td>\n",
       "      <td>...</td>\n",
       "      <td>237</td>\n",
       "      <td>221</td>\n",
       "      <td>238</td>\n",
       "      <td>246</td>\n",
       "      <td>192</td>\n",
       "      <td>222</td>\n",
       "      <td>237</td>\n",
       "      <td>51</td>\n",
       "      <td>51</td>\n",
       "      <td>51</td>\n",
       "    </tr>\n",
       "  </tbody>\n",
       "</table>\n",
       "<p>5 rows × 49 columns</p>\n",
       "</div>"
      ],
      "text/plain": [
       "          id                name   screen_name  statuses_count  \\\n",
       "0  370098498        pirfectmoses  pirfectmoses              24   \n",
       "1   37384589            SAK Nair   bsknair1967             656   \n",
       "2   72110028              Deepak       dedjven            1234   \n",
       "3   82885728     Marcos Vinicius     BrowAlves             573   \n",
       "4  110120789  Shri Kant Kanaujia    kanaujiask             675   \n",
       "\n",
       "   followers_count  friends_count  favourites_count  listed_count  \\\n",
       "0                4            588                16             0   \n",
       "1               57            693               597             0   \n",
       "2               15            104              1150             0   \n",
       "3               14            227               530             0   \n",
       "4               18            519               653             0   \n",
       "\n",
       "                       created_at  url  ... profile_background_color_blue  \\\n",
       "0  Thu Sep 08 13:20:35 +0000 2011  NaN  ...                           238   \n",
       "1  Sun May 03 07:35:13 +0000 2009  NaN  ...                           237   \n",
       "2  Sun Sep 06 19:50:08 +0000 2009  NaN  ...                            22   \n",
       "3  Fri Oct 16 14:02:48 +0000 2009  NaN  ...                           237   \n",
       "4  Sun Jan 31 12:08:41 +0000 2010  NaN  ...                           237   \n",
       "\n",
       "  profile_sidebar_fill_color_red profile_sidebar_fill_color_green  \\\n",
       "0                            221                              238   \n",
       "1                            221                              238   \n",
       "2                            239                              239   \n",
       "3                            221                              238   \n",
       "4                            221                              238   \n",
       "\n",
       "   profile_sidebar_fill_color_blue  profile_sidebar_border_color_red  \\\n",
       "0                              246                               255   \n",
       "1                              246                               192   \n",
       "2                              239                               238   \n",
       "3                              246                               192   \n",
       "4                              246                               192   \n",
       "\n",
       "   profile_sidebar_border_color_green profile_sidebar_border_color_blue  \\\n",
       "0                                 255                               255   \n",
       "1                                 222                               237   \n",
       "2                                 238                               238   \n",
       "3                                 222                               237   \n",
       "4                                 222                               237   \n",
       "\n",
       "  profile_text_color_red  profile_text_color_green profile_text_color_blue  \n",
       "0                     51                        51                      51  \n",
       "1                     51                        51                      51  \n",
       "2                     51                        51                      51  \n",
       "3                     31                        29                      31  \n",
       "4                     51                        51                      51  \n",
       "\n",
       "[5 rows x 49 columns]"
      ]
     },
     "execution_count": 109,
     "metadata": {},
     "output_type": "execute_result"
    }
   ],
   "source": [
    "data=pd.concat([data,abcde],axis=1)\n",
    "data.head()"
   ]
  },
  {
   "cell_type": "markdown",
   "metadata": {},
   "source": [
    "### dropping previous columns in 'color_columns' because it's no longer in use"
   ]
  },
  {
   "cell_type": "code",
   "execution_count": 110,
   "metadata": {},
   "outputs": [
    {
     "data": {
      "text/plain": [
       "(2818, 44)"
      ]
     },
     "execution_count": 110,
     "metadata": {},
     "output_type": "execute_result"
    }
   ],
   "source": [
    "data=data.drop(color_columns,axis=1)\n",
    "data.shape"
   ]
  },
  {
   "cell_type": "markdown",
   "metadata": {},
   "source": [
    "### Since the data is nominal, we cannot use Label Encoder\n",
    "### Thus we'll use get_dummies under pandas package"
   ]
  },
  {
   "cell_type": "code",
   "execution_count": 111,
   "metadata": {},
   "outputs": [],
   "source": [
    "dummy_features=['lang','time_zone']\n",
    "for i in dummy_features:\n",
    "    xyz=pd.get_dummies(data[i])\n",
    "    data=pd.concat([data,xyz],axis=1)"
   ]
  },
  {
   "cell_type": "markdown",
   "metadata": {},
   "source": [
    "### Here we'll use Label Encoder in utc_offset coolumn because it is an ordinal data"
   ]
  },
  {
   "cell_type": "code",
   "execution_count": 112,
   "metadata": {},
   "outputs": [],
   "source": [
    "lbl=LabelEncoder()\n",
    "data.utc_offset=lbl.fit_transform(data.utc_offset)"
   ]
  },
  {
   "cell_type": "code",
   "execution_count": 113,
   "metadata": {},
   "outputs": [],
   "source": [
    "data=data.drop(['protected', 'verified','url','profile_banner_url','lang','time_zone','id'], axis=1)"
   ]
  },
  {
   "cell_type": "code",
   "execution_count": 114,
   "metadata": {},
   "outputs": [],
   "source": [
    "data['created_at']=pd.to_datetime(data.created_at)\n",
    "data['created_at_minute']=data.created_at.dt.minute\n",
    "data[\"created_at_hour\"]=data.created_at.dt.hour\n",
    "data['created_on_date']=data.created_at.dt.day\n",
    "data['created_in_month']=data.created_at.dt.month\n",
    "data['created_in_year']=data.created_at.dt.year"
   ]
  },
  {
   "cell_type": "code",
   "execution_count": 115,
   "metadata": {},
   "outputs": [],
   "source": [
    "data.created_in_year=lbl.fit_transform(data.created_in_year)\n",
    "data.updated=lbl.fit_transform(data.updated)\n",
    "data=data.drop('created_at',axis=1)"
   ]
  },
  {
   "cell_type": "code",
   "execution_count": 116,
   "metadata": {},
   "outputs": [],
   "source": [
    "object_types=['profile_background_image_url','description','profile_image_url_https','profile_image_url','location',\n",
    "              'profile_background_image_url_https']\n",
    "data=data.drop(object_types,axis=1)  "
   ]
  },
  {
   "cell_type": "markdown",
   "metadata": {},
   "source": [
    "### assigning a sex code to each sample on the basis of it's name"
   ]
  },
  {
   "cell_type": "code",
   "execution_count": 117,
   "metadata": {},
   "outputs": [],
   "source": [
    "def predict_sex(name):\n",
    "    sex_predictor=gender.Detector(case_sensitive=False)\n",
    "    first_name=name.str.split(' ').str.get(0)\n",
    "    sex=first_name.apply(sex_predictor.get_gender)\n",
    "    sex_dict={'female':-2,'mostly_female':-1,'unknown':0,'mostly_male':1,'male':2,'andy':3}\n",
    "    sex_code=sex.map(sex_dict).astype(int)\n",
    "    return(sex_code)\n",
    "data['sex_code']=predict_sex(data.name)"
   ]
  },
  {
   "cell_type": "code",
   "execution_count": 118,
   "metadata": {},
   "outputs": [
    {
     "data": {
      "text/plain": [
       "(2818, 75)"
      ]
     },
     "execution_count": 118,
     "metadata": {},
     "output_type": "execute_result"
    }
   ],
   "source": [
    "data=data.drop(['screen_name','name'],axis=1)\n",
    "data.shape"
   ]
  },
  {
   "cell_type": "markdown",
   "metadata": {},
   "source": [
    "### Feature scaling using MinMaxScalar"
   ]
  },
  {
   "cell_type": "code",
   "execution_count": 119,
   "metadata": {},
   "outputs": [],
   "source": [
    "minmax=MinMaxScaler(feature_range=(1,100))\n",
    "rf=RandomForestClassifier()"
   ]
  },
  {
   "cell_type": "code",
   "execution_count": 120,
   "metadata": {},
   "outputs": [
    {
     "name": "stderr",
     "output_type": "stream",
     "text": [
      "C:\\Users\\HimanshuKumar\\Anaconda3\\lib\\site-packages\\sklearn\\utils\\validation.py:595: DataConversionWarning: Data with input dtype int64 was converted to float64 by MinMaxScaler.\n",
      "  warnings.warn(msg, DataConversionWarning)\n",
      "C:\\Users\\HimanshuKumar\\Anaconda3\\lib\\site-packages\\sklearn\\utils\\validation.py:595: DataConversionWarning: Data with input dtype int64 was converted to float64 by MinMaxScaler.\n",
      "  warnings.warn(msg, DataConversionWarning)\n",
      "C:\\Users\\HimanshuKumar\\Anaconda3\\lib\\site-packages\\sklearn\\utils\\validation.py:595: DataConversionWarning: Data with input dtype int64 was converted to float64 by MinMaxScaler.\n",
      "  warnings.warn(msg, DataConversionWarning)\n",
      "C:\\Users\\HimanshuKumar\\Anaconda3\\lib\\site-packages\\sklearn\\utils\\validation.py:595: DataConversionWarning: Data with input dtype int64 was converted to float64 by MinMaxScaler.\n",
      "  warnings.warn(msg, DataConversionWarning)\n"
     ]
    }
   ],
   "source": [
    "feature_scaled=['friends_count','statuses_count','followers_count','favourites_count']\n",
    "for i in feature_scaled:\n",
    "    a=data[i]\n",
    "    a=a.values\n",
    "    a=a.reshape(-1,1)\n",
    "    a=(minmax.fit_transform(a)).astype(float)\n",
    "    data[i]=a"
   ]
  },
  {
   "cell_type": "code",
   "execution_count": 121,
   "metadata": {},
   "outputs": [],
   "source": [
    "y=data['dataset']\n",
    "data=data.drop('dataset',axis=1)\n",
    "x=data"
   ]
  },
  {
   "cell_type": "code",
   "execution_count": 122,
   "metadata": {},
   "outputs": [],
   "source": [
    "x_train,x_test,y_train,y_test=train_test_split(x,y,test_size=.25,random_state=10)"
   ]
  },
  {
   "cell_type": "code",
   "execution_count": 123,
   "metadata": {},
   "outputs": [
    {
     "name": "stderr",
     "output_type": "stream",
     "text": [
      "C:\\Users\\HimanshuKumar\\Anaconda3\\lib\\site-packages\\sklearn\\ensemble\\forest.py:246: FutureWarning: The default value of n_estimators will change from 10 in version 0.20 to 100 in 0.22.\n",
      "  \"10 in version 0.20 to 100 in 0.22.\", FutureWarning)\n"
     ]
    }
   ],
   "source": [
    "rf.fit(x_train,y_train)\n",
    "abcd=[]\n",
    "abcd=(rf.feature_importances_).tolist()"
   ]
  },
  {
   "cell_type": "code",
   "execution_count": 127,
   "metadata": {},
   "outputs": [
    {
     "data": {
      "text/plain": [
       "<BarContainer object of 74 artists>"
      ]
     },
     "execution_count": 127,
     "metadata": {},
     "output_type": "execute_result"
    },
    {
     "data": {
      "image/png": "[encoded data removed]",
      "text/plain": [
       "<Figure size 432x288 with 1 Axes>"
      ]
     },
     "metadata": {
      "needs_background": "light"
     },
     "output_type": "display_data"
    }
   ],
   "source": [
    "plt.bar(range(1,75),rf.feature_importances_,width=1,align=\"center\")"
   ]
  },
  {
   "cell_type": "code",
   "execution_count": 128,
   "metadata": {},
   "outputs": [
    {
     "data": {
      "text/plain": [
       "[0.20412458898684088,\n",
       " 0.15809982608879322,\n",
       " 0.12989025556252826,\n",
       " 0.11303081774837391,\n",
       " 0.07091439520065777,\n",
       " 0.06694360364429212,\n",
       " 0.05965591457261982,\n",
       " 0.05012120122737559,\n",
       " 0.045641081646750487,\n",
       " 0.03384431443082071,\n",
       " 0.02501023768670353,\n",
       " 0.02029868128777836,\n",
       " 0.009083495643901231,\n",
       " 0.00695388975812853,\n",
       " 0.0018170071104717835,\n",
       " 0.0016318023656663344,\n",
       " 0.000737389202037802,\n",
       " 0.00037444725096754696,\n",
       " 0.00036641932379366385,\n",
       " 0.0003536897544589975,\n",
       " 0.00033819547487039535,\n",
       " 0.00028253056023296605,\n",
       " 0.00020852358106640496,\n",
       " 0.0001900572960234581,\n",
       " 5.921582749495762e-05,\n",
       " 1.195722796096117e-05,\n",
       " 1.0914253955405026e-05,\n",
       " 5.547285434922725e-06,\n",
       " 0.0,\n",
       " 0.0,\n",
       " 0.0,\n",
       " 0.0,\n",
       " 0.0,\n",
       " 0.0,\n",
       " 0.0,\n",
       " 0.0,\n",
       " 0.0,\n",
       " 0.0,\n",
       " 0.0,\n",
       " 0.0,\n",
       " 0.0,\n",
       " 0.0,\n",
       " 0.0,\n",
       " 0.0,\n",
       " 0.0,\n",
       " 0.0,\n",
       " 0.0,\n",
       " 0.0,\n",
       " 0.0,\n",
       " 0.0,\n",
       " 0.0,\n",
       " 0.0,\n",
       " 0.0,\n",
       " 0.0,\n",
       " 0.0,\n",
       " 0.0,\n",
       " 0.0,\n",
       " 0.0,\n",
       " 0.0,\n",
       " 0.0,\n",
       " 0.0,\n",
       " 0.0,\n",
       " 0.0,\n",
       " 0.0,\n",
       " 0.0,\n",
       " 0.0,\n",
       " 0.0,\n",
       " 0.0,\n",
       " 0.0,\n",
       " 0.0,\n",
       " 0.0,\n",
       " 0.0,\n",
       " 0.0,\n",
       " 0.0]"
      ]
     },
     "execution_count": 128,
     "metadata": {},
     "output_type": "execute_result"
    }
   ],
   "source": [
    "abcd.sort(reverse=True)\n",
    "abcd"
   ]
  },
  {
   "cell_type": "code",
   "execution_count": 129,
   "metadata": {},
   "outputs": [
    {
     "data": {
      "text/plain": [
       "statuses_count                        0\n",
       "followers_count                       0\n",
       "friends_count                         0\n",
       "favourites_count                      0\n",
       "listed_count                          0\n",
       "default_profile                       0\n",
       "default_profile_image                 0\n",
       "geo_enabled                           0\n",
       "profile_use_background_image          0\n",
       "profile_background_tile               0\n",
       "utc_offset                            0\n",
       "updated                               0\n",
       "profile_link_color_red                0\n",
       "profile_link_color_green              0\n",
       "profile_link_color_blue               0\n",
       "profile_background_color_red          0\n",
       "profile_background_color_green        0\n",
       "profile_background_color_blue         0\n",
       "profile_sidebar_fill_color_red        0\n",
       "profile_sidebar_fill_color_green      0\n",
       "profile_sidebar_fill_color_blue       0\n",
       "profile_sidebar_border_color_red      0\n",
       "profile_sidebar_border_color_green    0\n",
       "profile_sidebar_border_color_blue     0\n",
       "profile_text_color_red                0\n",
       "profile_text_color_green              0\n",
       "profile_text_color_blue               0\n",
       "de                                    0\n",
       "en                                    0\n",
       "es                                    0\n",
       "                                     ..\n",
       "Chennai                               0\n",
       "Copenhagen                            0\n",
       "Eastern Time (US & Canada)            0\n",
       "Edinburgh                             0\n",
       "Greenland                             0\n",
       "Guadalajara                           0\n",
       "Hawaii                                0\n",
       "International Date Line West          0\n",
       "Istanbul                              0\n",
       "London                                0\n",
       "Madrid                                0\n",
       "Melbourne                             0\n",
       "Moscow                                0\n",
       "Mountain Time (US & Canada)           0\n",
       "New Delhi                             0\n",
       "Pacific Time (US & Canada)            0\n",
       "Paris                                 0\n",
       "Prague                                0\n",
       "Quito                                 0\n",
       "Rome                                  0\n",
       "Tehran                                0\n",
       "Vienna                                0\n",
       "West Central Africa                   0\n",
       "Yerevan                               0\n",
       "created_at_minute                     0\n",
       "created_at_hour                       0\n",
       "created_on_date                       0\n",
       "created_in_month                      0\n",
       "created_in_year                       0\n",
       "sex_code                              0\n",
       "Length: 74, dtype: int64"
      ]
     },
     "execution_count": 129,
     "metadata": {},
     "output_type": "execute_result"
    }
   ],
   "source": [
    "data.isnull().sum()"
   ]
  },
  {
   "cell_type": "code",
   "execution_count": null,
   "metadata": {},
   "outputs": [],
   "source": []
  }
 ],
 "metadata": {
  "kernelspec": {
   "display_name": "Python 3",
   "language": "python",
   "name": "python3"
  },
  "language_info": {
   "codemirror_mode": {
    "name": "ipython",
    "version": 3
   },
   "file_extension": ".py",
   "mimetype": "text/x-python",
   "name": "python",
   "nbconvert_exporter": "python",
   "pygments_lexer": "ipython3",
   "version": "3.6.8"
  }
 },
 "nbformat": 4,
 "nbformat_minor": 2
}
